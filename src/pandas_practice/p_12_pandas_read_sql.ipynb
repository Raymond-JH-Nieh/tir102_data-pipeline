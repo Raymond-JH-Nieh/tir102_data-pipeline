{
 "cells": [
  {
   "cell_type": "code",
   "execution_count": null,
   "metadata": {},
   "outputs": [],
   "source": [
    "from urllib.parse import quote_plus\n",
    "\n",
    "import pandas as pd\n",
    "from sqlalchemy import create_engine\n",
    "\n",
    "username = quote_plus(\"root\")\n",
    "password = quote_plus(\"1qaz@WSX\")\n",
    "server = \"host.docker.internal:3306\"\n",
    "db_name = \"testdb\"\n",
    "\n",
    "conn = create_engine(\n",
    "    f\"mysql+pymysql://{username}:{password}@{server}/{db_name}\",\n",
    ").connect()"
   ]
  },
  {
   "cell_type": "code",
   "execution_count": null,
   "metadata": {},
   "outputs": [],
   "source": [
    "df = pd.read_sql(\n",
    "    \"select * from staff\",\n",
    "    conn,\n",
    ")\n",
    "\n",
    "df"
   ]
  },
  {
   "cell_type": "code",
   "execution_count": null,
   "metadata": {},
   "outputs": [],
   "source": [
    "\n",
    "conn.close()"
   ]
  },
  {
   "cell_type": "code",
   "execution_count": null,
   "metadata": {},
   "outputs": [],
   "source": [
    "with create_engine(\n",
    "    f\"mysql+pymysql://{username}:{password}@{server}/{db_name}\",\n",
    ").connect() as conn:\n",
    "    df = pd.read_sql(\n",
    "        \"select * from staff\",\n",
    "        conn,\n",
    "    )\n",
    "\n",
    "df"
   ]
  },
  {
   "cell_type": "code",
   "execution_count": null,
   "metadata": {},
   "outputs": [],
   "source": [
    "df.loc[8] = [\"009\", \"Test\", \"004\", 50, \"F\", 100000, pd.to_datetime(\"2020-10-13 21:41:49\")]"
   ]
  },
  {
   "cell_type": "code",
   "execution_count": null,
   "metadata": {},
   "outputs": [],
   "source": [
    "df"
   ]
  },
  {
   "cell_type": "code",
   "execution_count": null,
   "metadata": {},
   "outputs": [],
   "source": [
    "conn = create_engine(\n",
    "    f\"mysql+pymysql://{username}:{password}@{server}/{db_name}\",\n",
    ").connect()\n",
    "\n",
    "df.to_sql(\n",
    "    \"Staff\",\n",
    "    conn,\n",
    "    \"TESTDB\",\n",
    "    if_exists=\"replace\",\n",
    "    index=False,\n",
    ")"
   ]
  },
  {
   "cell_type": "code",
   "execution_count": null,
   "metadata": {},
   "outputs": [],
   "source": [
    "conn.close()"
   ]
  },
  {
   "cell_type": "code",
   "execution_count": null,
   "metadata": {},
   "outputs": [],
   "source": [
    "with create_engine(\n",
    "    f\"mysql+pymysql://{username}:{password}@{server}/{db_name}\",\n",
    ").connect() as conn:\n",
    "    df.to_sql(\n",
    "        \"Staff\",\n",
    "        conn,\n",
    "        \"TESTDB\",\n",
    "        if_exists=\"replace\",\n",
    "        index=False,\n",
    "    )"
   ]
  },
  {
   "cell_type": "code",
   "execution_count": null,
   "metadata": {},
   "outputs": [],
   "source": [
    "df[\"ID\"] = df[\"ID\"].apply(lambda x: x.replace(\"00\", \"01\"))"
   ]
  },
  {
   "cell_type": "code",
   "execution_count": null,
   "metadata": {},
   "outputs": [],
   "source": [
    "config = {\n",
    "    \"if_exists\": \"append\",\n",
    "    \"index\": False,\n",
    "}\n",
    "\n",
    "with create_engine(\n",
    "    f\"mysql+pymysql://{username}:{password}@{server}/{db_name}\",\n",
    ").connect() as conn:\n",
    "    df.to_sql(\n",
    "        \"Staff\",\n",
    "        conn,\n",
    "        \"TESTDB\",\n",
    "        **config\n",
    "    )"
   ]
  },
  {
   "cell_type": "code",
   "execution_count": null,
   "metadata": {},
   "outputs": [],
   "source": [
    "df[\"ID\"] = df[\"ID\"].apply(lambda x: x.replace(\"02\", \"03\"))\n",
    "\n",
    "with create_engine(\n",
    "    f\"mysql+pymysql://{username}:{password}@{server}/{db_name}\",\n",
    ").connect() as conn:\n",
    "    df.to_sql(\n",
    "        \"Staff\",\n",
    "        conn,\n",
    "        **config\n",
    "    )"
   ]
  },
  {
   "cell_type": "code",
   "execution_count": null,
   "metadata": {},
   "outputs": [],
   "source": [
    "user_id = \"001\"\n",
    "\n",
    "with create_engine(\n",
    "    f\"mysql+pymysql://{username}:{password}@{server}/{db_name}\",\n",
    ").connect() as conn:\n",
    "\n",
    "    df = pd.read_sql(\n",
    "        \"\"\"\n",
    "        select * from staff\n",
    "        where ID = %(tmp_id)s\n",
    "        \"\"\",\n",
    "        conn,\n",
    "        params={\n",
    "            \"tmp_id\": user_id\n",
    "        }\n",
    "    )\n",
    "\n",
    "df"
   ]
  },
  {
   "cell_type": "code",
   "execution_count": null,
   "metadata": {},
   "outputs": [],
   "source": [
    "user_id = \"001' or 1 = 1 or ID = '\"\n",
    "\n",
    "with create_engine(\n",
    "    f\"mysql+pymysql://{username}:{password}@{server}/{db_name}\",\n",
    ").connect() as conn:\n",
    "\n",
    "    df = pd.read_sql(\n",
    "        f\"\"\"\n",
    "        select * from staff\n",
    "        where ID = '{user_id}'\n",
    "        \"\"\",\n",
    "        conn,\n",
    "    )\n",
    "\n",
    "df"
   ]
  },
  {
   "cell_type": "code",
   "execution_count": null,
   "metadata": {},
   "outputs": [],
   "source": []
  }
 ],
 "metadata": {
  "kernelspec": {
   "display_name": "Python 3",
   "language": "python",
   "name": "python3"
  },
  "language_info": {
   "name": "python",
   "version": "3.12.4"
  }
 },
 "nbformat": 4,
 "nbformat_minor": 2
}
