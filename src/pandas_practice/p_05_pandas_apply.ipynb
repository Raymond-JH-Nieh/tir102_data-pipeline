{
 "cells": [
  {
   "cell_type": "code",
   "execution_count": 32,
   "metadata": {},
   "outputs": [],
   "source": [
    "import pandas as pd"
   ]
  },
  {
   "cell_type": "code",
   "execution_count": 3,
   "metadata": {},
   "outputs": [
    {
     "data": {
      "text/html": [
       "<div>\n",
       "<style scoped>\n",
       "    .dataframe tbody tr th:only-of-type {\n",
       "        vertical-align: middle;\n",
       "    }\n",
       "\n",
       "    .dataframe tbody tr th {\n",
       "        vertical-align: top;\n",
       "    }\n",
       "\n",
       "    .dataframe thead th {\n",
       "        text-align: right;\n",
       "    }\n",
       "</style>\n",
       "<table border=\"1\" class=\"dataframe\">\n",
       "  <thead>\n",
       "    <tr style=\"text-align: right;\">\n",
       "      <th></th>\n",
       "      <th>推</th>\n",
       "      <th>噓</th>\n",
       "      <th>分數</th>\n",
       "      <th>作者</th>\n",
       "      <th>標題</th>\n",
       "      <th>時間</th>\n",
       "    </tr>\n",
       "  </thead>\n",
       "  <tbody>\n",
       "    <tr>\n",
       "      <th>0</th>\n",
       "      <td>推: 25</td>\n",
       "      <td>噓: 4</td>\n",
       "      <td>分數: 21</td>\n",
       "      <td>作者: Rusnake5566 (魯蛇+56 PTT最強帳號)</td>\n",
       "      <td>標題: [問卦] 兩個候選人選前一個月同時陣亡的可能性</td>\n",
       "      <td>時間: Fri Oct  2 13:56:39 2020</td>\n",
       "    </tr>\n",
       "    <tr>\n",
       "      <th>1</th>\n",
       "      <td>推: 11</td>\n",
       "      <td>噓: 11</td>\n",
       "      <td>分數: 0</td>\n",
       "      <td>作者: LoveMakeLove (ボケ)</td>\n",
       "      <td>標題: [新聞]江啟臣：兩岸是不對稱的戰爭 從募兵改徵兵</td>\n",
       "      <td>時間: Wed Oct  7 18:53:08 2020</td>\n",
       "    </tr>\n",
       "    <tr>\n",
       "      <th>2</th>\n",
       "      <td>推: 20</td>\n",
       "      <td>噓: 0</td>\n",
       "      <td>分數: 20</td>\n",
       "      <td>作者: MintSu (Simon)</td>\n",
       "      <td>標題: [問卦] 如果川普老婆死於武漢肺炎會怎麼樣？</td>\n",
       "      <td>時間: Fri Oct  2 13:30:55 2020</td>\n",
       "    </tr>\n",
       "    <tr>\n",
       "      <th>3</th>\n",
       "      <td>推: 31</td>\n",
       "      <td>噓: 2</td>\n",
       "      <td>分數: 29</td>\n",
       "      <td>作者: seiya2000 (風見)</td>\n",
       "      <td>標題: [問卦] 為什麼古代生物體型可以長到這麼大？</td>\n",
       "      <td>時間: Fri Oct  2 12:35:18 2020</td>\n",
       "    </tr>\n",
       "    <tr>\n",
       "      <th>4</th>\n",
       "      <td>推: 106</td>\n",
       "      <td>噓: 6</td>\n",
       "      <td>分數: 100</td>\n",
       "      <td>作者: kasumi5566 (霞)</td>\n",
       "      <td>標題: [問卦] 支那女生是不是都沒錢修補衣服</td>\n",
       "      <td>時間: Fri Oct  2 13:43:25 2020</td>\n",
       "    </tr>\n",
       "  </tbody>\n",
       "</table>\n",
       "</div>"
      ],
      "text/plain": [
       "        推      噓       分數                               作者  \\\n",
       "0   推: 25   噓: 4   分數: 21  作者: Rusnake5566 (魯蛇+56 PTT最強帳號)   \n",
       "1   推: 11  噓: 11    分數: 0            作者: LoveMakeLove (ボケ)   \n",
       "2   推: 20   噓: 0   分數: 20               作者: MintSu (Simon)   \n",
       "3   推: 31   噓: 2   分數: 29               作者: seiya2000 (風見)   \n",
       "4  推: 106   噓: 6  分數: 100               作者: kasumi5566 (霞)   \n",
       "\n",
       "                             標題                            時間  \n",
       "0   標題: [問卦] 兩個候選人選前一個月同時陣亡的可能性  時間: Fri Oct  2 13:56:39 2020  \n",
       "1  標題: [新聞]江啟臣：兩岸是不對稱的戰爭 從募兵改徵兵  時間: Wed Oct  7 18:53:08 2020  \n",
       "2    標題: [問卦] 如果川普老婆死於武漢肺炎會怎麼樣？  時間: Fri Oct  2 13:30:55 2020  \n",
       "3    標題: [問卦] 為什麼古代生物體型可以長到這麼大？  時間: Fri Oct  2 12:35:18 2020  \n",
       "4       標題: [問卦] 支那女生是不是都沒錢修補衣服  時間: Fri Oct  2 13:43:25 2020  "
      ]
     },
     "execution_count": 3,
     "metadata": {},
     "output_type": "execute_result"
    }
   ],
   "source": [
    "file_path = \"/workspaces/tir102_data-pipeline/src/pandas_practice/ptt.csv\"\n",
    "\n",
    "df = pd.read_csv(file_path)\n",
    "\n",
    "df.head()"
   ]
  },
  {
   "cell_type": "code",
   "execution_count": 4,
   "metadata": {},
   "outputs": [],
   "source": [
    "\"\"\"\n",
    "\"推: 25\" -> 25\n",
    "\"\"\"\n",
    "def tmp_apply(input_str: str) -> int:\n",
    "    return int(input_str.split(\": \")[1])\n",
    "\n",
    "def tmp_apply(input_str: str) -> int:\n",
    "    return int(input_str.replace(\"推: \", \"\").strip()) #\"推: \"取代成\"\"空字串"
   ]
  },
  {
   "cell_type": "code",
   "execution_count": 5,
   "metadata": {},
   "outputs": [
    {
     "data": {
      "text/plain": [
       "0       推: 25\n",
       "1       推: 11\n",
       "2       推: 20\n",
       "3       推: 31\n",
       "4      推: 106\n",
       "        ...  \n",
       "701      推: 5\n",
       "702      推: 7\n",
       "703      推: 0\n",
       "704     推: 15\n",
       "705      推: 5\n",
       "Name: 推, Length: 706, dtype: object"
      ]
     },
     "execution_count": 5,
     "metadata": {},
     "output_type": "execute_result"
    }
   ],
   "source": [
    "df[\"推\"]"
   ]
  },
  {
   "cell_type": "code",
   "execution_count": 6,
   "metadata": {},
   "outputs": [
    {
     "data": {
      "text/plain": [
       "0       25\n",
       "1       11\n",
       "2       20\n",
       "3       31\n",
       "4      106\n",
       "      ... \n",
       "701      5\n",
       "702      7\n",
       "703      0\n",
       "704     15\n",
       "705      5\n",
       "Name: 推, Length: 706, dtype: int64"
      ]
     },
     "execution_count": 6,
     "metadata": {},
     "output_type": "execute_result"
    }
   ],
   "source": [
    "df[\"推\"].apply(tmp_apply)"
   ]
  },
  {
   "cell_type": "code",
   "execution_count": 7,
   "metadata": {},
   "outputs": [
    {
     "data": {
      "text/html": [
       "<div>\n",
       "<style scoped>\n",
       "    .dataframe tbody tr th:only-of-type {\n",
       "        vertical-align: middle;\n",
       "    }\n",
       "\n",
       "    .dataframe tbody tr th {\n",
       "        vertical-align: top;\n",
       "    }\n",
       "\n",
       "    .dataframe thead th {\n",
       "        text-align: right;\n",
       "    }\n",
       "</style>\n",
       "<table border=\"1\" class=\"dataframe\">\n",
       "  <thead>\n",
       "    <tr style=\"text-align: right;\">\n",
       "      <th></th>\n",
       "      <th>推</th>\n",
       "      <th>噓</th>\n",
       "      <th>分數</th>\n",
       "      <th>作者</th>\n",
       "      <th>標題</th>\n",
       "      <th>時間</th>\n",
       "    </tr>\n",
       "  </thead>\n",
       "  <tbody>\n",
       "    <tr>\n",
       "      <th>0</th>\n",
       "      <td>推: 25</td>\n",
       "      <td>噓: 4</td>\n",
       "      <td>分數: 21</td>\n",
       "      <td>作者: Rusnake5566 (魯蛇+56 PTT最強帳號)</td>\n",
       "      <td>標題: [問卦] 兩個候選人選前一個月同時陣亡的可能性</td>\n",
       "      <td>時間: Fri Oct  2 13:56:39 2020</td>\n",
       "    </tr>\n",
       "    <tr>\n",
       "      <th>1</th>\n",
       "      <td>推: 11</td>\n",
       "      <td>噓: 11</td>\n",
       "      <td>分數: 0</td>\n",
       "      <td>作者: LoveMakeLove (ボケ)</td>\n",
       "      <td>標題: [新聞]江啟臣：兩岸是不對稱的戰爭 從募兵改徵兵</td>\n",
       "      <td>時間: Wed Oct  7 18:53:08 2020</td>\n",
       "    </tr>\n",
       "    <tr>\n",
       "      <th>2</th>\n",
       "      <td>推: 20</td>\n",
       "      <td>噓: 0</td>\n",
       "      <td>分數: 20</td>\n",
       "      <td>作者: MintSu (Simon)</td>\n",
       "      <td>標題: [問卦] 如果川普老婆死於武漢肺炎會怎麼樣？</td>\n",
       "      <td>時間: Fri Oct  2 13:30:55 2020</td>\n",
       "    </tr>\n",
       "    <tr>\n",
       "      <th>3</th>\n",
       "      <td>推: 31</td>\n",
       "      <td>噓: 2</td>\n",
       "      <td>分數: 29</td>\n",
       "      <td>作者: seiya2000 (風見)</td>\n",
       "      <td>標題: [問卦] 為什麼古代生物體型可以長到這麼大？</td>\n",
       "      <td>時間: Fri Oct  2 12:35:18 2020</td>\n",
       "    </tr>\n",
       "    <tr>\n",
       "      <th>4</th>\n",
       "      <td>推: 106</td>\n",
       "      <td>噓: 6</td>\n",
       "      <td>分數: 100</td>\n",
       "      <td>作者: kasumi5566 (霞)</td>\n",
       "      <td>標題: [問卦] 支那女生是不是都沒錢修補衣服</td>\n",
       "      <td>時間: Fri Oct  2 13:43:25 2020</td>\n",
       "    </tr>\n",
       "  </tbody>\n",
       "</table>\n",
       "</div>"
      ],
      "text/plain": [
       "        推      噓       分數                               作者  \\\n",
       "0   推: 25   噓: 4   分數: 21  作者: Rusnake5566 (魯蛇+56 PTT最強帳號)   \n",
       "1   推: 11  噓: 11    分數: 0            作者: LoveMakeLove (ボケ)   \n",
       "2   推: 20   噓: 0   分數: 20               作者: MintSu (Simon)   \n",
       "3   推: 31   噓: 2   分數: 29               作者: seiya2000 (風見)   \n",
       "4  推: 106   噓: 6  分數: 100               作者: kasumi5566 (霞)   \n",
       "\n",
       "                             標題                            時間  \n",
       "0   標題: [問卦] 兩個候選人選前一個月同時陣亡的可能性  時間: Fri Oct  2 13:56:39 2020  \n",
       "1  標題: [新聞]江啟臣：兩岸是不對稱的戰爭 從募兵改徵兵  時間: Wed Oct  7 18:53:08 2020  \n",
       "2    標題: [問卦] 如果川普老婆死於武漢肺炎會怎麼樣？  時間: Fri Oct  2 13:30:55 2020  \n",
       "3    標題: [問卦] 為什麼古代生物體型可以長到這麼大？  時間: Fri Oct  2 12:35:18 2020  \n",
       "4       標題: [問卦] 支那女生是不是都沒錢修補衣服  時間: Fri Oct  2 13:43:25 2020  "
      ]
     },
     "execution_count": 7,
     "metadata": {},
     "output_type": "execute_result"
    }
   ],
   "source": [
    "df.head()"
   ]
  },
  {
   "cell_type": "code",
   "execution_count": 13,
   "metadata": {},
   "outputs": [
    {
     "ename": "AttributeError",
     "evalue": "'int' object has no attribute 'replace'",
     "output_type": "error",
     "traceback": [
      "\u001b[0;31m---------------------------------------------------------------------------\u001b[0m",
      "\u001b[0;31mAttributeError\u001b[0m                            Traceback (most recent call last)",
      "Cell \u001b[0;32mIn[13], line 1\u001b[0m\n\u001b[0;32m----> 1\u001b[0m df[\u001b[38;5;124m\"\u001b[39m\u001b[38;5;124m推\u001b[39m\u001b[38;5;124m\"\u001b[39m] \u001b[38;5;241m=\u001b[39m \u001b[43mdf\u001b[49m\u001b[43m[\u001b[49m\u001b[38;5;124;43m\"\u001b[39;49m\u001b[38;5;124;43m推\u001b[39;49m\u001b[38;5;124;43m\"\u001b[39;49m\u001b[43m]\u001b[49m\u001b[38;5;241;43m.\u001b[39;49m\u001b[43mapply\u001b[49m\u001b[43m(\u001b[49m\u001b[43mtmp_apply\u001b[49m\u001b[43m)\u001b[49m \u001b[38;5;66;03m#assign回df\u001b[39;00m\n\u001b[1;32m      2\u001b[0m df\u001b[38;5;241m.\u001b[39mhead()\n",
      "File \u001b[0;32m/usr/local/lib/python3.12/site-packages/pandas/core/series.py:4924\u001b[0m, in \u001b[0;36mSeries.apply\u001b[0;34m(self, func, convert_dtype, args, by_row, **kwargs)\u001b[0m\n\u001b[1;32m   4789\u001b[0m \u001b[38;5;28;01mdef\u001b[39;00m \u001b[38;5;21mapply\u001b[39m(\n\u001b[1;32m   4790\u001b[0m     \u001b[38;5;28mself\u001b[39m,\n\u001b[1;32m   4791\u001b[0m     func: AggFuncType,\n\u001b[0;32m   (...)\u001b[0m\n\u001b[1;32m   4796\u001b[0m     \u001b[38;5;241m*\u001b[39m\u001b[38;5;241m*\u001b[39mkwargs,\n\u001b[1;32m   4797\u001b[0m ) \u001b[38;5;241m-\u001b[39m\u001b[38;5;241m>\u001b[39m DataFrame \u001b[38;5;241m|\u001b[39m Series:\n\u001b[1;32m   4798\u001b[0m \u001b[38;5;250m    \u001b[39m\u001b[38;5;124;03m\"\"\"\u001b[39;00m\n\u001b[1;32m   4799\u001b[0m \u001b[38;5;124;03m    Invoke function on values of Series.\u001b[39;00m\n\u001b[1;32m   4800\u001b[0m \n\u001b[0;32m   (...)\u001b[0m\n\u001b[1;32m   4915\u001b[0m \u001b[38;5;124;03m    dtype: float64\u001b[39;00m\n\u001b[1;32m   4916\u001b[0m \u001b[38;5;124;03m    \"\"\"\u001b[39;00m\n\u001b[1;32m   4917\u001b[0m     \u001b[38;5;28;01mreturn\u001b[39;00m \u001b[43mSeriesApply\u001b[49m\u001b[43m(\u001b[49m\n\u001b[1;32m   4918\u001b[0m \u001b[43m        \u001b[49m\u001b[38;5;28;43mself\u001b[39;49m\u001b[43m,\u001b[49m\n\u001b[1;32m   4919\u001b[0m \u001b[43m        \u001b[49m\u001b[43mfunc\u001b[49m\u001b[43m,\u001b[49m\n\u001b[1;32m   4920\u001b[0m \u001b[43m        \u001b[49m\u001b[43mconvert_dtype\u001b[49m\u001b[38;5;241;43m=\u001b[39;49m\u001b[43mconvert_dtype\u001b[49m\u001b[43m,\u001b[49m\n\u001b[1;32m   4921\u001b[0m \u001b[43m        \u001b[49m\u001b[43mby_row\u001b[49m\u001b[38;5;241;43m=\u001b[39;49m\u001b[43mby_row\u001b[49m\u001b[43m,\u001b[49m\n\u001b[1;32m   4922\u001b[0m \u001b[43m        \u001b[49m\u001b[43margs\u001b[49m\u001b[38;5;241;43m=\u001b[39;49m\u001b[43margs\u001b[49m\u001b[43m,\u001b[49m\n\u001b[1;32m   4923\u001b[0m \u001b[43m        \u001b[49m\u001b[43mkwargs\u001b[49m\u001b[38;5;241;43m=\u001b[39;49m\u001b[43mkwargs\u001b[49m\u001b[43m,\u001b[49m\n\u001b[0;32m-> 4924\u001b[0m \u001b[43m    \u001b[49m\u001b[43m)\u001b[49m\u001b[38;5;241;43m.\u001b[39;49m\u001b[43mapply\u001b[49m\u001b[43m(\u001b[49m\u001b[43m)\u001b[49m\n",
      "File \u001b[0;32m/usr/local/lib/python3.12/site-packages/pandas/core/apply.py:1427\u001b[0m, in \u001b[0;36mSeriesApply.apply\u001b[0;34m(self)\u001b[0m\n\u001b[1;32m   1424\u001b[0m     \u001b[38;5;28;01mreturn\u001b[39;00m \u001b[38;5;28mself\u001b[39m\u001b[38;5;241m.\u001b[39mapply_compat()\n\u001b[1;32m   1426\u001b[0m \u001b[38;5;66;03m# self.func is Callable\u001b[39;00m\n\u001b[0;32m-> 1427\u001b[0m \u001b[38;5;28;01mreturn\u001b[39;00m \u001b[38;5;28;43mself\u001b[39;49m\u001b[38;5;241;43m.\u001b[39;49m\u001b[43mapply_standard\u001b[49m\u001b[43m(\u001b[49m\u001b[43m)\u001b[49m\n",
      "File \u001b[0;32m/usr/local/lib/python3.12/site-packages/pandas/core/apply.py:1507\u001b[0m, in \u001b[0;36mSeriesApply.apply_standard\u001b[0;34m(self)\u001b[0m\n\u001b[1;32m   1501\u001b[0m \u001b[38;5;66;03m# row-wise access\u001b[39;00m\n\u001b[1;32m   1502\u001b[0m \u001b[38;5;66;03m# apply doesn't have a `na_action` keyword and for backward compat reasons\u001b[39;00m\n\u001b[1;32m   1503\u001b[0m \u001b[38;5;66;03m# we need to give `na_action=\"ignore\"` for categorical data.\u001b[39;00m\n\u001b[1;32m   1504\u001b[0m \u001b[38;5;66;03m# TODO: remove the `na_action=\"ignore\"` when that default has been changed in\u001b[39;00m\n\u001b[1;32m   1505\u001b[0m \u001b[38;5;66;03m#  Categorical (GH51645).\u001b[39;00m\n\u001b[1;32m   1506\u001b[0m action \u001b[38;5;241m=\u001b[39m \u001b[38;5;124m\"\u001b[39m\u001b[38;5;124mignore\u001b[39m\u001b[38;5;124m\"\u001b[39m \u001b[38;5;28;01mif\u001b[39;00m \u001b[38;5;28misinstance\u001b[39m(obj\u001b[38;5;241m.\u001b[39mdtype, CategoricalDtype) \u001b[38;5;28;01melse\u001b[39;00m \u001b[38;5;28;01mNone\u001b[39;00m\n\u001b[0;32m-> 1507\u001b[0m mapped \u001b[38;5;241m=\u001b[39m \u001b[43mobj\u001b[49m\u001b[38;5;241;43m.\u001b[39;49m\u001b[43m_map_values\u001b[49m\u001b[43m(\u001b[49m\n\u001b[1;32m   1508\u001b[0m \u001b[43m    \u001b[49m\u001b[43mmapper\u001b[49m\u001b[38;5;241;43m=\u001b[39;49m\u001b[43mcurried\u001b[49m\u001b[43m,\u001b[49m\u001b[43m \u001b[49m\u001b[43mna_action\u001b[49m\u001b[38;5;241;43m=\u001b[39;49m\u001b[43maction\u001b[49m\u001b[43m,\u001b[49m\u001b[43m \u001b[49m\u001b[43mconvert\u001b[49m\u001b[38;5;241;43m=\u001b[39;49m\u001b[38;5;28;43mself\u001b[39;49m\u001b[38;5;241;43m.\u001b[39;49m\u001b[43mconvert_dtype\u001b[49m\n\u001b[1;32m   1509\u001b[0m \u001b[43m\u001b[49m\u001b[43m)\u001b[49m\n\u001b[1;32m   1511\u001b[0m \u001b[38;5;28;01mif\u001b[39;00m \u001b[38;5;28mlen\u001b[39m(mapped) \u001b[38;5;129;01mand\u001b[39;00m \u001b[38;5;28misinstance\u001b[39m(mapped[\u001b[38;5;241m0\u001b[39m], ABCSeries):\n\u001b[1;32m   1512\u001b[0m     \u001b[38;5;66;03m# GH#43986 Need to do list(mapped) in order to get treated as nested\u001b[39;00m\n\u001b[1;32m   1513\u001b[0m     \u001b[38;5;66;03m#  See also GH#25959 regarding EA support\u001b[39;00m\n\u001b[1;32m   1514\u001b[0m     \u001b[38;5;28;01mreturn\u001b[39;00m obj\u001b[38;5;241m.\u001b[39m_constructor_expanddim(\u001b[38;5;28mlist\u001b[39m(mapped), index\u001b[38;5;241m=\u001b[39mobj\u001b[38;5;241m.\u001b[39mindex)\n",
      "File \u001b[0;32m/usr/local/lib/python3.12/site-packages/pandas/core/base.py:921\u001b[0m, in \u001b[0;36mIndexOpsMixin._map_values\u001b[0;34m(self, mapper, na_action, convert)\u001b[0m\n\u001b[1;32m    918\u001b[0m \u001b[38;5;28;01mif\u001b[39;00m \u001b[38;5;28misinstance\u001b[39m(arr, ExtensionArray):\n\u001b[1;32m    919\u001b[0m     \u001b[38;5;28;01mreturn\u001b[39;00m arr\u001b[38;5;241m.\u001b[39mmap(mapper, na_action\u001b[38;5;241m=\u001b[39mna_action)\n\u001b[0;32m--> 921\u001b[0m \u001b[38;5;28;01mreturn\u001b[39;00m \u001b[43malgorithms\u001b[49m\u001b[38;5;241;43m.\u001b[39;49m\u001b[43mmap_array\u001b[49m\u001b[43m(\u001b[49m\u001b[43marr\u001b[49m\u001b[43m,\u001b[49m\u001b[43m \u001b[49m\u001b[43mmapper\u001b[49m\u001b[43m,\u001b[49m\u001b[43m \u001b[49m\u001b[43mna_action\u001b[49m\u001b[38;5;241;43m=\u001b[39;49m\u001b[43mna_action\u001b[49m\u001b[43m,\u001b[49m\u001b[43m \u001b[49m\u001b[43mconvert\u001b[49m\u001b[38;5;241;43m=\u001b[39;49m\u001b[43mconvert\u001b[49m\u001b[43m)\u001b[49m\n",
      "File \u001b[0;32m/usr/local/lib/python3.12/site-packages/pandas/core/algorithms.py:1743\u001b[0m, in \u001b[0;36mmap_array\u001b[0;34m(arr, mapper, na_action, convert)\u001b[0m\n\u001b[1;32m   1741\u001b[0m values \u001b[38;5;241m=\u001b[39m arr\u001b[38;5;241m.\u001b[39mastype(\u001b[38;5;28mobject\u001b[39m, copy\u001b[38;5;241m=\u001b[39m\u001b[38;5;28;01mFalse\u001b[39;00m)\n\u001b[1;32m   1742\u001b[0m \u001b[38;5;28;01mif\u001b[39;00m na_action \u001b[38;5;129;01mis\u001b[39;00m \u001b[38;5;28;01mNone\u001b[39;00m:\n\u001b[0;32m-> 1743\u001b[0m     \u001b[38;5;28;01mreturn\u001b[39;00m \u001b[43mlib\u001b[49m\u001b[38;5;241;43m.\u001b[39;49m\u001b[43mmap_infer\u001b[49m\u001b[43m(\u001b[49m\u001b[43mvalues\u001b[49m\u001b[43m,\u001b[49m\u001b[43m \u001b[49m\u001b[43mmapper\u001b[49m\u001b[43m,\u001b[49m\u001b[43m \u001b[49m\u001b[43mconvert\u001b[49m\u001b[38;5;241;43m=\u001b[39;49m\u001b[43mconvert\u001b[49m\u001b[43m)\u001b[49m\n\u001b[1;32m   1744\u001b[0m \u001b[38;5;28;01melse\u001b[39;00m:\n\u001b[1;32m   1745\u001b[0m     \u001b[38;5;28;01mreturn\u001b[39;00m lib\u001b[38;5;241m.\u001b[39mmap_infer_mask(\n\u001b[1;32m   1746\u001b[0m         values, mapper, mask\u001b[38;5;241m=\u001b[39misna(values)\u001b[38;5;241m.\u001b[39mview(np\u001b[38;5;241m.\u001b[39muint8), convert\u001b[38;5;241m=\u001b[39mconvert\n\u001b[1;32m   1747\u001b[0m     )\n",
      "File \u001b[0;32mlib.pyx:2972\u001b[0m, in \u001b[0;36mpandas._libs.lib.map_infer\u001b[0;34m()\u001b[0m\n",
      "Cell \u001b[0;32mIn[4], line 8\u001b[0m, in \u001b[0;36mtmp_apply\u001b[0;34m(input_str)\u001b[0m\n\u001b[1;32m      7\u001b[0m \u001b[38;5;28;01mdef\u001b[39;00m \u001b[38;5;21mtmp_apply\u001b[39m(input_str: \u001b[38;5;28mstr\u001b[39m) \u001b[38;5;241m-\u001b[39m\u001b[38;5;241m>\u001b[39m \u001b[38;5;28mint\u001b[39m:\n\u001b[0;32m----> 8\u001b[0m     \u001b[38;5;28;01mreturn\u001b[39;00m \u001b[38;5;28mint\u001b[39m(\u001b[43minput_str\u001b[49m\u001b[38;5;241;43m.\u001b[39;49m\u001b[43mreplace\u001b[49m(\u001b[38;5;124m\"\u001b[39m\u001b[38;5;124m推: \u001b[39m\u001b[38;5;124m\"\u001b[39m, \u001b[38;5;124m\"\u001b[39m\u001b[38;5;124m\"\u001b[39m)\u001b[38;5;241m.\u001b[39mstrip())\n",
      "\u001b[0;31mAttributeError\u001b[0m: 'int' object has no attribute 'replace'"
     ]
    }
   ],
   "source": [
    "df[\"推\"] = df[\"推\"].apply(tmp_apply) #assign回df\n",
    "df.head()"
   ]
  },
  {
   "cell_type": "code",
   "execution_count": 10,
   "metadata": {},
   "outputs": [
    {
     "data": {
      "text/html": [
       "<div>\n",
       "<style scoped>\n",
       "    .dataframe tbody tr th:only-of-type {\n",
       "        vertical-align: middle;\n",
       "    }\n",
       "\n",
       "    .dataframe tbody tr th {\n",
       "        vertical-align: top;\n",
       "    }\n",
       "\n",
       "    .dataframe thead th {\n",
       "        text-align: right;\n",
       "    }\n",
       "</style>\n",
       "<table border=\"1\" class=\"dataframe\">\n",
       "  <thead>\n",
       "    <tr style=\"text-align: right;\">\n",
       "      <th></th>\n",
       "      <th>推</th>\n",
       "      <th>噓</th>\n",
       "      <th>分數</th>\n",
       "      <th>作者</th>\n",
       "      <th>標題</th>\n",
       "      <th>時間</th>\n",
       "    </tr>\n",
       "  </thead>\n",
       "  <tbody>\n",
       "    <tr>\n",
       "      <th>0</th>\n",
       "      <td>25</td>\n",
       "      <td>4</td>\n",
       "      <td>分數: 21</td>\n",
       "      <td>作者: Rusnake5566 (魯蛇+56 PTT最強帳號)</td>\n",
       "      <td>標題: [問卦] 兩個候選人選前一個月同時陣亡的可能性</td>\n",
       "      <td>時間: Fri Oct  2 13:56:39 2020</td>\n",
       "    </tr>\n",
       "    <tr>\n",
       "      <th>1</th>\n",
       "      <td>11</td>\n",
       "      <td>11</td>\n",
       "      <td>分數: 0</td>\n",
       "      <td>作者: LoveMakeLove (ボケ)</td>\n",
       "      <td>標題: [新聞]江啟臣：兩岸是不對稱的戰爭 從募兵改徵兵</td>\n",
       "      <td>時間: Wed Oct  7 18:53:08 2020</td>\n",
       "    </tr>\n",
       "    <tr>\n",
       "      <th>2</th>\n",
       "      <td>20</td>\n",
       "      <td>0</td>\n",
       "      <td>分數: 20</td>\n",
       "      <td>作者: MintSu (Simon)</td>\n",
       "      <td>標題: [問卦] 如果川普老婆死於武漢肺炎會怎麼樣？</td>\n",
       "      <td>時間: Fri Oct  2 13:30:55 2020</td>\n",
       "    </tr>\n",
       "    <tr>\n",
       "      <th>3</th>\n",
       "      <td>31</td>\n",
       "      <td>2</td>\n",
       "      <td>分數: 29</td>\n",
       "      <td>作者: seiya2000 (風見)</td>\n",
       "      <td>標題: [問卦] 為什麼古代生物體型可以長到這麼大？</td>\n",
       "      <td>時間: Fri Oct  2 12:35:18 2020</td>\n",
       "    </tr>\n",
       "    <tr>\n",
       "      <th>4</th>\n",
       "      <td>106</td>\n",
       "      <td>6</td>\n",
       "      <td>分數: 100</td>\n",
       "      <td>作者: kasumi5566 (霞)</td>\n",
       "      <td>標題: [問卦] 支那女生是不是都沒錢修補衣服</td>\n",
       "      <td>時間: Fri Oct  2 13:43:25 2020</td>\n",
       "    </tr>\n",
       "  </tbody>\n",
       "</table>\n",
       "</div>"
      ],
      "text/plain": [
       "     推   噓       分數                               作者  \\\n",
       "0   25   4   分數: 21  作者: Rusnake5566 (魯蛇+56 PTT最強帳號)   \n",
       "1   11  11    分數: 0            作者: LoveMakeLove (ボケ)   \n",
       "2   20   0   分數: 20               作者: MintSu (Simon)   \n",
       "3   31   2   分數: 29               作者: seiya2000 (風見)   \n",
       "4  106   6  分數: 100               作者: kasumi5566 (霞)   \n",
       "\n",
       "                             標題                            時間  \n",
       "0   標題: [問卦] 兩個候選人選前一個月同時陣亡的可能性  時間: Fri Oct  2 13:56:39 2020  \n",
       "1  標題: [新聞]江啟臣：兩岸是不對稱的戰爭 從募兵改徵兵  時間: Wed Oct  7 18:53:08 2020  \n",
       "2    標題: [問卦] 如果川普老婆死於武漢肺炎會怎麼樣？  時間: Fri Oct  2 13:30:55 2020  \n",
       "3    標題: [問卦] 為什麼古代生物體型可以長到這麼大？  時間: Fri Oct  2 12:35:18 2020  \n",
       "4       標題: [問卦] 支那女生是不是都沒錢修補衣服  時間: Fri Oct  2 13:43:25 2020  "
      ]
     },
     "execution_count": 10,
     "metadata": {},
     "output_type": "execute_result"
    }
   ],
   "source": [
    "df[\"噓\"] = df[\"噓\"].apply(\n",
    "    lambda input_str: int(input_str.replace(\"噓: \", \"\").strip())  #隱藏函數: 使用時機為語言邏輯簡單運算\n",
    ")\n",
    "df.head()"
   ]
  },
  {
   "cell_type": "code",
   "execution_count": null,
   "metadata": {},
   "outputs": [],
   "source": [
    "def tmp_apply(input_str: str) -> int:\n",
    "    return int(input_str.replace(\"推: \", \"\").strip()) #\"推: \"取代成\"\"空字串\n",
    "\n",
    "    lambda input_str: int(input_str.replace(\"推: \", \"\").strip()"
   ]
  },
  {
   "cell_type": "code",
   "execution_count": 11,
   "metadata": {},
   "outputs": [
    {
     "data": {
      "text/html": [
       "<div>\n",
       "<style scoped>\n",
       "    .dataframe tbody tr th:only-of-type {\n",
       "        vertical-align: middle;\n",
       "    }\n",
       "\n",
       "    .dataframe tbody tr th {\n",
       "        vertical-align: top;\n",
       "    }\n",
       "\n",
       "    .dataframe thead th {\n",
       "        text-align: right;\n",
       "    }\n",
       "</style>\n",
       "<table border=\"1\" class=\"dataframe\">\n",
       "  <thead>\n",
       "    <tr style=\"text-align: right;\">\n",
       "      <th></th>\n",
       "      <th>推</th>\n",
       "      <th>噓</th>\n",
       "      <th>分數</th>\n",
       "      <th>作者</th>\n",
       "      <th>標題</th>\n",
       "      <th>時間</th>\n",
       "    </tr>\n",
       "  </thead>\n",
       "  <tbody>\n",
       "    <tr>\n",
       "      <th>0</th>\n",
       "      <td>25</td>\n",
       "      <td>4</td>\n",
       "      <td>分數: 21</td>\n",
       "      <td>作者: Rusnake5566 (魯蛇+56 PTT最強帳號)</td>\n",
       "      <td>標題: [問卦] 兩個候選人選前一個月同時陣亡的可能性</td>\n",
       "      <td>Fri Oct  2 13:56:39 2020</td>\n",
       "    </tr>\n",
       "    <tr>\n",
       "      <th>1</th>\n",
       "      <td>11</td>\n",
       "      <td>11</td>\n",
       "      <td>分數: 0</td>\n",
       "      <td>作者: LoveMakeLove (ボケ)</td>\n",
       "      <td>標題: [新聞]江啟臣：兩岸是不對稱的戰爭 從募兵改徵兵</td>\n",
       "      <td>Wed Oct  7 18:53:08 2020</td>\n",
       "    </tr>\n",
       "    <tr>\n",
       "      <th>2</th>\n",
       "      <td>20</td>\n",
       "      <td>0</td>\n",
       "      <td>分數: 20</td>\n",
       "      <td>作者: MintSu (Simon)</td>\n",
       "      <td>標題: [問卦] 如果川普老婆死於武漢肺炎會怎麼樣？</td>\n",
       "      <td>Fri Oct  2 13:30:55 2020</td>\n",
       "    </tr>\n",
       "    <tr>\n",
       "      <th>3</th>\n",
       "      <td>31</td>\n",
       "      <td>2</td>\n",
       "      <td>分數: 29</td>\n",
       "      <td>作者: seiya2000 (風見)</td>\n",
       "      <td>標題: [問卦] 為什麼古代生物體型可以長到這麼大？</td>\n",
       "      <td>Fri Oct  2 12:35:18 2020</td>\n",
       "    </tr>\n",
       "    <tr>\n",
       "      <th>4</th>\n",
       "      <td>106</td>\n",
       "      <td>6</td>\n",
       "      <td>分數: 100</td>\n",
       "      <td>作者: kasumi5566 (霞)</td>\n",
       "      <td>標題: [問卦] 支那女生是不是都沒錢修補衣服</td>\n",
       "      <td>Fri Oct  2 13:43:25 2020</td>\n",
       "    </tr>\n",
       "  </tbody>\n",
       "</table>\n",
       "</div>"
      ],
      "text/plain": [
       "     推   噓       分數                               作者  \\\n",
       "0   25   4   分數: 21  作者: Rusnake5566 (魯蛇+56 PTT最強帳號)   \n",
       "1   11  11    分數: 0            作者: LoveMakeLove (ボケ)   \n",
       "2   20   0   分數: 20               作者: MintSu (Simon)   \n",
       "3   31   2   分數: 29               作者: seiya2000 (風見)   \n",
       "4  106   6  分數: 100               作者: kasumi5566 (霞)   \n",
       "\n",
       "                             標題                        時間  \n",
       "0   標題: [問卦] 兩個候選人選前一個月同時陣亡的可能性  Fri Oct  2 13:56:39 2020  \n",
       "1  標題: [新聞]江啟臣：兩岸是不對稱的戰爭 從募兵改徵兵  Wed Oct  7 18:53:08 2020  \n",
       "2    標題: [問卦] 如果川普老婆死於武漢肺炎會怎麼樣？  Fri Oct  2 13:30:55 2020  \n",
       "3    標題: [問卦] 為什麼古代生物體型可以長到這麼大？  Fri Oct  2 12:35:18 2020  \n",
       "4       標題: [問卦] 支那女生是不是都沒錢修補衣服  Fri Oct  2 13:43:25 2020  "
      ]
     },
     "execution_count": 11,
     "metadata": {},
     "output_type": "execute_result"
    }
   ],
   "source": [
    "df[\"時間\"] = df[\"時間\"].apply(\n",
    "    lambda input_str: input_str.replace(\"時間: \", \"\").strip()  #隱藏函數: 使用時機為語言邏輯簡單運算\n",
    ")\n",
    "df.head()"
   ]
  },
  {
   "cell_type": "markdown",
   "metadata": {},
   "source": [
    "處理時間"
   ]
  },
  {
   "cell_type": "code",
   "execution_count": 14,
   "metadata": {},
   "outputs": [
    {
     "ename": "ModuleNotFoundError",
     "evalue": "No module named 'pendulum'",
     "output_type": "error",
     "traceback": [
      "\u001b[0;31m---------------------------------------------------------------------------\u001b[0m",
      "\u001b[0;31mModuleNotFoundError\u001b[0m                       Traceback (most recent call last)",
      "Cell \u001b[0;32mIn[14], line 3\u001b[0m\n\u001b[1;32m      1\u001b[0m \u001b[38;5;28;01mimport\u001b[39;00m \u001b[38;5;21;01mdatetime\u001b[39;00m\n\u001b[1;32m      2\u001b[0m \u001b[38;5;28;01mimport\u001b[39;00m \u001b[38;5;21;01mtime\u001b[39;00m\n\u001b[0;32m----> 3\u001b[0m \u001b[38;5;28;01mimport\u001b[39;00m \u001b[38;5;21;01mpendulum\u001b[39;00m\n",
      "\u001b[0;31mModuleNotFoundError\u001b[0m: No module named 'pendulum'"
     ]
    }
   ],
   "source": [
    "import datetime\n",
    "import time\n",
    "import pendulum"
   ]
  },
  {
   "cell_type": "code",
   "execution_count": 15,
   "metadata": {},
   "outputs": [
    {
     "data": {
      "text/plain": [
       "Timestamp('2024-07-27 13:32:20')"
      ]
     },
     "execution_count": 15,
     "metadata": {},
     "output_type": "execute_result"
    }
   ],
   "source": [
    "pd.to_datetime(\"2024-07-27 13:32:20\")"
   ]
  },
  {
   "cell_type": "code",
   "execution_count": 16,
   "metadata": {},
   "outputs": [
    {
     "data": {
      "text/plain": [
       "datetime.date(2024, 7, 27)"
      ]
     },
     "execution_count": 16,
     "metadata": {},
     "output_type": "execute_result"
    }
   ],
   "source": [
    "pd.to_datetime(\"2024-07-27 13:32:20\").date()"
   ]
  },
  {
   "cell_type": "code",
   "execution_count": 30,
   "metadata": {},
   "outputs": [],
   "source": [
    "from datetime import datetime\n",
    "from datetime import date"
   ]
  },
  {
   "cell_type": "code",
   "execution_count": 34,
   "metadata": {},
   "outputs": [
    {
     "data": {
      "text/plain": [
       "0     2020-10-02 13:56:39\n",
       "1     2020-10-07 18:53:08\n",
       "2     2020-10-02 13:30:55\n",
       "3     2020-10-02 12:35:18\n",
       "4     2020-10-02 13:43:25\n",
       "              ...        \n",
       "701   2020-10-07 19:37:00\n",
       "702   2020-10-07 21:00:58\n",
       "703   2020-10-07 21:27:26\n",
       "704   2020-10-02 14:00:50\n",
       "705   2020-10-02 15:29:44\n",
       "Name: 時間, Length: 706, dtype: datetime64[ns]"
      ]
     },
     "execution_count": 34,
     "metadata": {},
     "output_type": "execute_result"
    }
   ],
   "source": [
    "pd.to_datetime(df[\"時間\"]) #要篩選某個時間之前或之後 要先把時間轉乘datetime or timestamp格式在比較"
   ]
  },
  {
   "cell_type": "code",
   "execution_count": 33,
   "metadata": {},
   "outputs": [
    {
     "ename": "DateParseError",
     "evalue": "Unknown datetime string format, unable to parse: 2024//k/07///24, at position 0",
     "output_type": "error",
     "traceback": [
      "\u001b[0;31m---------------------------------------------------------------------------\u001b[0m",
      "\u001b[0;31mDateParseError\u001b[0m                            Traceback (most recent call last)",
      "Cell \u001b[0;32mIn[33], line 2\u001b[0m\n\u001b[1;32m      1\u001b[0m datetime_str \u001b[38;5;241m=\u001b[39m \u001b[38;5;124m\"\u001b[39m\u001b[38;5;124m2024//k/07///24\u001b[39m\u001b[38;5;124m\"\u001b[39m \u001b[38;5;66;03m#遇到奇怪的格式無法轉日期 可以使用datetime module\u001b[39;00m\n\u001b[0;32m----> 2\u001b[0m \u001b[43mpd\u001b[49m\u001b[38;5;241;43m.\u001b[39;49m\u001b[43mto_datetime\u001b[49m\u001b[43m(\u001b[49m\u001b[43mdatetime_str\u001b[49m\u001b[43m)\u001b[49m\n",
      "File \u001b[0;32m/usr/local/lib/python3.12/site-packages/pandas/core/tools/datetimes.py:1101\u001b[0m, in \u001b[0;36mto_datetime\u001b[0;34m(arg, errors, dayfirst, yearfirst, utc, format, exact, unit, infer_datetime_format, origin, cache)\u001b[0m\n\u001b[1;32m   1099\u001b[0m         result \u001b[38;5;241m=\u001b[39m convert_listlike(argc, \u001b[38;5;28mformat\u001b[39m)\n\u001b[1;32m   1100\u001b[0m \u001b[38;5;28;01melse\u001b[39;00m:\n\u001b[0;32m-> 1101\u001b[0m     result \u001b[38;5;241m=\u001b[39m \u001b[43mconvert_listlike\u001b[49m\u001b[43m(\u001b[49m\u001b[43mnp\u001b[49m\u001b[38;5;241;43m.\u001b[39;49m\u001b[43marray\u001b[49m\u001b[43m(\u001b[49m\u001b[43m[\u001b[49m\u001b[43marg\u001b[49m\u001b[43m]\u001b[49m\u001b[43m)\u001b[49m\u001b[43m,\u001b[49m\u001b[43m \u001b[49m\u001b[38;5;28;43mformat\u001b[39;49m\u001b[43m)\u001b[49m[\u001b[38;5;241m0\u001b[39m]\n\u001b[1;32m   1102\u001b[0m     \u001b[38;5;28;01mif\u001b[39;00m \u001b[38;5;28misinstance\u001b[39m(arg, \u001b[38;5;28mbool\u001b[39m) \u001b[38;5;129;01mand\u001b[39;00m \u001b[38;5;28misinstance\u001b[39m(result, np\u001b[38;5;241m.\u001b[39mbool_):\n\u001b[1;32m   1103\u001b[0m         result \u001b[38;5;241m=\u001b[39m \u001b[38;5;28mbool\u001b[39m(result)  \u001b[38;5;66;03m# TODO: avoid this kludge.\u001b[39;00m\n",
      "File \u001b[0;32m/usr/local/lib/python3.12/site-packages/pandas/core/tools/datetimes.py:435\u001b[0m, in \u001b[0;36m_convert_listlike_datetimes\u001b[0;34m(arg, format, name, utc, unit, errors, dayfirst, yearfirst, exact)\u001b[0m\n\u001b[1;32m    432\u001b[0m \u001b[38;5;28;01mif\u001b[39;00m \u001b[38;5;28mformat\u001b[39m \u001b[38;5;129;01mis\u001b[39;00m \u001b[38;5;129;01mnot\u001b[39;00m \u001b[38;5;28;01mNone\u001b[39;00m \u001b[38;5;129;01mand\u001b[39;00m \u001b[38;5;28mformat\u001b[39m \u001b[38;5;241m!=\u001b[39m \u001b[38;5;124m\"\u001b[39m\u001b[38;5;124mmixed\u001b[39m\u001b[38;5;124m\"\u001b[39m:\n\u001b[1;32m    433\u001b[0m     \u001b[38;5;28;01mreturn\u001b[39;00m _array_strptime_with_fallback(arg, name, utc, \u001b[38;5;28mformat\u001b[39m, exact, errors)\n\u001b[0;32m--> 435\u001b[0m result, tz_parsed \u001b[38;5;241m=\u001b[39m \u001b[43mobjects_to_datetime64\u001b[49m\u001b[43m(\u001b[49m\n\u001b[1;32m    436\u001b[0m \u001b[43m    \u001b[49m\u001b[43marg\u001b[49m\u001b[43m,\u001b[49m\n\u001b[1;32m    437\u001b[0m \u001b[43m    \u001b[49m\u001b[43mdayfirst\u001b[49m\u001b[38;5;241;43m=\u001b[39;49m\u001b[43mdayfirst\u001b[49m\u001b[43m,\u001b[49m\n\u001b[1;32m    438\u001b[0m \u001b[43m    \u001b[49m\u001b[43myearfirst\u001b[49m\u001b[38;5;241;43m=\u001b[39;49m\u001b[43myearfirst\u001b[49m\u001b[43m,\u001b[49m\n\u001b[1;32m    439\u001b[0m \u001b[43m    \u001b[49m\u001b[43mutc\u001b[49m\u001b[38;5;241;43m=\u001b[39;49m\u001b[43mutc\u001b[49m\u001b[43m,\u001b[49m\n\u001b[1;32m    440\u001b[0m \u001b[43m    \u001b[49m\u001b[43merrors\u001b[49m\u001b[38;5;241;43m=\u001b[39;49m\u001b[43merrors\u001b[49m\u001b[43m,\u001b[49m\n\u001b[1;32m    441\u001b[0m \u001b[43m    \u001b[49m\u001b[43mallow_object\u001b[49m\u001b[38;5;241;43m=\u001b[39;49m\u001b[38;5;28;43;01mTrue\u001b[39;49;00m\u001b[43m,\u001b[49m\n\u001b[1;32m    442\u001b[0m \u001b[43m\u001b[49m\u001b[43m)\u001b[49m\n\u001b[1;32m    444\u001b[0m \u001b[38;5;28;01mif\u001b[39;00m tz_parsed \u001b[38;5;129;01mis\u001b[39;00m \u001b[38;5;129;01mnot\u001b[39;00m \u001b[38;5;28;01mNone\u001b[39;00m:\n\u001b[1;32m    445\u001b[0m     \u001b[38;5;66;03m# We can take a shortcut since the datetime64 numpy array\u001b[39;00m\n\u001b[1;32m    446\u001b[0m     \u001b[38;5;66;03m# is in UTC\u001b[39;00m\n\u001b[1;32m    447\u001b[0m     out_unit \u001b[38;5;241m=\u001b[39m np\u001b[38;5;241m.\u001b[39mdatetime_data(result\u001b[38;5;241m.\u001b[39mdtype)[\u001b[38;5;241m0\u001b[39m]\n",
      "File \u001b[0;32m/usr/local/lib/python3.12/site-packages/pandas/core/arrays/datetimes.py:2398\u001b[0m, in \u001b[0;36mobjects_to_datetime64\u001b[0;34m(data, dayfirst, yearfirst, utc, errors, allow_object, out_unit)\u001b[0m\n\u001b[1;32m   2395\u001b[0m \u001b[38;5;66;03m# if str-dtype, convert\u001b[39;00m\n\u001b[1;32m   2396\u001b[0m data \u001b[38;5;241m=\u001b[39m np\u001b[38;5;241m.\u001b[39masarray(data, dtype\u001b[38;5;241m=\u001b[39mnp\u001b[38;5;241m.\u001b[39mobject_)\n\u001b[0;32m-> 2398\u001b[0m result, tz_parsed \u001b[38;5;241m=\u001b[39m \u001b[43mtslib\u001b[49m\u001b[38;5;241;43m.\u001b[39;49m\u001b[43marray_to_datetime\u001b[49m\u001b[43m(\u001b[49m\n\u001b[1;32m   2399\u001b[0m \u001b[43m    \u001b[49m\u001b[43mdata\u001b[49m\u001b[43m,\u001b[49m\n\u001b[1;32m   2400\u001b[0m \u001b[43m    \u001b[49m\u001b[43merrors\u001b[49m\u001b[38;5;241;43m=\u001b[39;49m\u001b[43merrors\u001b[49m\u001b[43m,\u001b[49m\n\u001b[1;32m   2401\u001b[0m \u001b[43m    \u001b[49m\u001b[43mutc\u001b[49m\u001b[38;5;241;43m=\u001b[39;49m\u001b[43mutc\u001b[49m\u001b[43m,\u001b[49m\n\u001b[1;32m   2402\u001b[0m \u001b[43m    \u001b[49m\u001b[43mdayfirst\u001b[49m\u001b[38;5;241;43m=\u001b[39;49m\u001b[43mdayfirst\u001b[49m\u001b[43m,\u001b[49m\n\u001b[1;32m   2403\u001b[0m \u001b[43m    \u001b[49m\u001b[43myearfirst\u001b[49m\u001b[38;5;241;43m=\u001b[39;49m\u001b[43myearfirst\u001b[49m\u001b[43m,\u001b[49m\n\u001b[1;32m   2404\u001b[0m \u001b[43m    \u001b[49m\u001b[43mcreso\u001b[49m\u001b[38;5;241;43m=\u001b[39;49m\u001b[43mabbrev_to_npy_unit\u001b[49m\u001b[43m(\u001b[49m\u001b[43mout_unit\u001b[49m\u001b[43m)\u001b[49m\u001b[43m,\u001b[49m\n\u001b[1;32m   2405\u001b[0m \u001b[43m\u001b[49m\u001b[43m)\u001b[49m\n\u001b[1;32m   2407\u001b[0m \u001b[38;5;28;01mif\u001b[39;00m tz_parsed \u001b[38;5;129;01mis\u001b[39;00m \u001b[38;5;129;01mnot\u001b[39;00m \u001b[38;5;28;01mNone\u001b[39;00m:\n\u001b[1;32m   2408\u001b[0m     \u001b[38;5;66;03m# We can take a shortcut since the datetime64 numpy array\u001b[39;00m\n\u001b[1;32m   2409\u001b[0m     \u001b[38;5;66;03m#  is in UTC\u001b[39;00m\n\u001b[1;32m   2410\u001b[0m     \u001b[38;5;28;01mreturn\u001b[39;00m result, tz_parsed\n",
      "File \u001b[0;32mtslib.pyx:414\u001b[0m, in \u001b[0;36mpandas._libs.tslib.array_to_datetime\u001b[0;34m()\u001b[0m\n",
      "File \u001b[0;32mtslib.pyx:596\u001b[0m, in \u001b[0;36mpandas._libs.tslib.array_to_datetime\u001b[0;34m()\u001b[0m\n",
      "File \u001b[0;32mtslib.pyx:553\u001b[0m, in \u001b[0;36mpandas._libs.tslib.array_to_datetime\u001b[0;34m()\u001b[0m\n",
      "File \u001b[0;32mconversion.pyx:641\u001b[0m, in \u001b[0;36mpandas._libs.tslibs.conversion.convert_str_to_tsobject\u001b[0;34m()\u001b[0m\n",
      "File \u001b[0;32mparsing.pyx:336\u001b[0m, in \u001b[0;36mpandas._libs.tslibs.parsing.parse_datetime_string\u001b[0;34m()\u001b[0m\n",
      "File \u001b[0;32mparsing.pyx:666\u001b[0m, in \u001b[0;36mpandas._libs.tslibs.parsing.dateutil_parse\u001b[0;34m()\u001b[0m\n",
      "\u001b[0;31mDateParseError\u001b[0m: Unknown datetime string format, unable to parse: 2024//k/07///24, at position 0"
     ]
    }
   ],
   "source": [
    "datetime_str = \"2024//k/07///24\" #遇到奇怪的格式無法轉日期 可以使用datetime module\n",
    "pd.to_datetime(datetime_str)"
   ]
  },
  {
   "cell_type": "code",
   "execution_count": 22,
   "metadata": {},
   "outputs": [
    {
     "data": {
      "text/plain": [
       "datetime.datetime(2024, 7, 24, 0, 0)"
      ]
     },
     "execution_count": 22,
     "metadata": {},
     "output_type": "execute_result"
    }
   ],
   "source": [
    "from datetime import datetime\n",
    "\n",
    "datetime_str = \"2024//k/07///24\"\n",
    "datetime.strptime(datetime_str, \"%Y//k/%m///%d\") #(常用)利用strptime 自行去定義年月日位置!!!"
   ]
  },
  {
   "cell_type": "code",
   "execution_count": 28,
   "metadata": {},
   "outputs": [
    {
     "name": "stdout",
     "output_type": "stream",
     "text": [
      "this is Apple\n",
      "This is Apple\n",
      "This is Apple\n"
     ]
    }
   ],
   "source": [
    "#sting的常用方法\n",
    "print(\n",
    "    \"this is %s\"%(\"Apple\")\n",
    ")\n",
    "\n",
    "print(\n",
    "    \"This is {}\".format(\"Apple\")\n",
    ")\n",
    "\n",
    "tmp_var = \"Apple\"\n",
    "print(\n",
    "    f\"This is {tmp_var}\"\n",
    ")"
   ]
  },
  {
   "cell_type": "code",
   "execution_count": 35,
   "metadata": {},
   "outputs": [
    {
     "data": {
      "text/html": [
       "<div>\n",
       "<style scoped>\n",
       "    .dataframe tbody tr th:only-of-type {\n",
       "        vertical-align: middle;\n",
       "    }\n",
       "\n",
       "    .dataframe tbody tr th {\n",
       "        vertical-align: top;\n",
       "    }\n",
       "\n",
       "    .dataframe thead th {\n",
       "        text-align: right;\n",
       "    }\n",
       "</style>\n",
       "<table border=\"1\" class=\"dataframe\">\n",
       "  <thead>\n",
       "    <tr style=\"text-align: right;\">\n",
       "      <th></th>\n",
       "      <th>推</th>\n",
       "      <th>噓</th>\n",
       "      <th>分數</th>\n",
       "      <th>作者</th>\n",
       "      <th>標題</th>\n",
       "      <th>時間</th>\n",
       "    </tr>\n",
       "  </thead>\n",
       "  <tbody>\n",
       "    <tr>\n",
       "      <th>0</th>\n",
       "      <td>25</td>\n",
       "      <td>4</td>\n",
       "      <td>分數: 21</td>\n",
       "      <td>作者: Rusnake5566 (魯蛇+56 PTT最強帳號)</td>\n",
       "      <td>標題: [問卦] 兩個候選人選前一個月同時陣亡的可能性</td>\n",
       "      <td>Fri Oct  2 13:56:39 2020</td>\n",
       "    </tr>\n",
       "    <tr>\n",
       "      <th>1</th>\n",
       "      <td>11</td>\n",
       "      <td>11</td>\n",
       "      <td>分數: 0</td>\n",
       "      <td>作者: LoveMakeLove (ボケ)</td>\n",
       "      <td>標題: [新聞]江啟臣：兩岸是不對稱的戰爭 從募兵改徵兵</td>\n",
       "      <td>Wed Oct  7 18:53:08 2020</td>\n",
       "    </tr>\n",
       "    <tr>\n",
       "      <th>2</th>\n",
       "      <td>20</td>\n",
       "      <td>0</td>\n",
       "      <td>分數: 20</td>\n",
       "      <td>作者: MintSu (Simon)</td>\n",
       "      <td>標題: [問卦] 如果川普老婆死於武漢肺炎會怎麼樣？</td>\n",
       "      <td>Fri Oct  2 13:30:55 2020</td>\n",
       "    </tr>\n",
       "    <tr>\n",
       "      <th>3</th>\n",
       "      <td>31</td>\n",
       "      <td>2</td>\n",
       "      <td>分數: 29</td>\n",
       "      <td>作者: seiya2000 (風見)</td>\n",
       "      <td>標題: [問卦] 為什麼古代生物體型可以長到這麼大？</td>\n",
       "      <td>Fri Oct  2 12:35:18 2020</td>\n",
       "    </tr>\n",
       "    <tr>\n",
       "      <th>4</th>\n",
       "      <td>106</td>\n",
       "      <td>6</td>\n",
       "      <td>分數: 100</td>\n",
       "      <td>作者: kasumi5566 (霞)</td>\n",
       "      <td>標題: [問卦] 支那女生是不是都沒錢修補衣服</td>\n",
       "      <td>Fri Oct  2 13:43:25 2020</td>\n",
       "    </tr>\n",
       "    <tr>\n",
       "      <th>...</th>\n",
       "      <td>...</td>\n",
       "      <td>...</td>\n",
       "      <td>...</td>\n",
       "      <td>...</td>\n",
       "      <td>...</td>\n",
       "      <td>...</td>\n",
       "    </tr>\n",
       "    <tr>\n",
       "      <th>701</th>\n",
       "      <td>5</td>\n",
       "      <td>0</td>\n",
       "      <td>分數: 5</td>\n",
       "      <td>作者: doraBBO (天才小釣手)</td>\n",
       "      <td>標題: [問卦] 為什麼要相信房子會跌不能買這種話？</td>\n",
       "      <td>Wed Oct  7 19:37:00 2020</td>\n",
       "    </tr>\n",
       "    <tr>\n",
       "      <th>702</th>\n",
       "      <td>7</td>\n",
       "      <td>0</td>\n",
       "      <td>分數: 7</td>\n",
       "      <td>作者: nothisman (在人海中迷失)</td>\n",
       "      <td>標題: [新聞] 地表「最胖肥熊」出爐！　635kg棕熊挺「</td>\n",
       "      <td>Wed Oct  7 21:00:58 2020</td>\n",
       "    </tr>\n",
       "    <tr>\n",
       "      <th>703</th>\n",
       "      <td>0</td>\n",
       "      <td>0</td>\n",
       "      <td>分數: 0</td>\n",
       "      <td>作者: wa778895 (oilsunbright)</td>\n",
       "      <td>標題: [問卦] 我是被下套了嗎？</td>\n",
       "      <td>Wed Oct  7 21:27:26 2020</td>\n",
       "    </tr>\n",
       "    <tr>\n",
       "      <th>704</th>\n",
       "      <td>15</td>\n",
       "      <td>4</td>\n",
       "      <td>分數: 11</td>\n",
       "      <td>作者: stan0720 (Kimo)</td>\n",
       "      <td>標題: [問卦] 認真問 人一天可以走幾公里呀？</td>\n",
       "      <td>Fri Oct  2 14:00:50 2020</td>\n",
       "    </tr>\n",
       "    <tr>\n",
       "      <th>705</th>\n",
       "      <td>5</td>\n",
       "      <td>0</td>\n",
       "      <td>分數: 5</td>\n",
       "      <td>作者: bigtreelife (Tree)</td>\n",
       "      <td>標題: [問卦] 叫外送的年輕人都是什麼人</td>\n",
       "      <td>Fri Oct  2 15:29:44 2020</td>\n",
       "    </tr>\n",
       "  </tbody>\n",
       "</table>\n",
       "<p>702 rows × 6 columns</p>\n",
       "</div>"
      ],
      "text/plain": [
       "       推   噓       分數                               作者  \\\n",
       "0     25   4   分數: 21  作者: Rusnake5566 (魯蛇+56 PTT最強帳號)   \n",
       "1     11  11    分數: 0            作者: LoveMakeLove (ボケ)   \n",
       "2     20   0   分數: 20               作者: MintSu (Simon)   \n",
       "3     31   2   分數: 29               作者: seiya2000 (風見)   \n",
       "4    106   6  分數: 100               作者: kasumi5566 (霞)   \n",
       "..   ...  ..      ...                              ...   \n",
       "701    5   0    分數: 5              作者: doraBBO (天才小釣手)   \n",
       "702    7   0    分數: 7           作者: nothisman (在人海中迷失)   \n",
       "703    0   0    分數: 0      作者: wa778895 (oilsunbright)   \n",
       "704   15   4   分數: 11              作者: stan0720 (Kimo)   \n",
       "705    5   0    分數: 5           作者: bigtreelife (Tree)   \n",
       "\n",
       "                                 標題                        時間  \n",
       "0       標題: [問卦] 兩個候選人選前一個月同時陣亡的可能性  Fri Oct  2 13:56:39 2020  \n",
       "1      標題: [新聞]江啟臣：兩岸是不對稱的戰爭 從募兵改徵兵  Wed Oct  7 18:53:08 2020  \n",
       "2        標題: [問卦] 如果川普老婆死於武漢肺炎會怎麼樣？  Fri Oct  2 13:30:55 2020  \n",
       "3        標題: [問卦] 為什麼古代生物體型可以長到這麼大？  Fri Oct  2 12:35:18 2020  \n",
       "4           標題: [問卦] 支那女生是不是都沒錢修補衣服  Fri Oct  2 13:43:25 2020  \n",
       "..                              ...                       ...  \n",
       "701      標題: [問卦] 為什麼要相信房子會跌不能買這種話？  Wed Oct  7 19:37:00 2020  \n",
       "702  標題: [新聞] 地表「最胖肥熊」出爐！　635kg棕熊挺「  Wed Oct  7 21:00:58 2020  \n",
       "703               標題: [問卦] 我是被下套了嗎？  Wed Oct  7 21:27:26 2020  \n",
       "704        標題: [問卦] 認真問 人一天可以走幾公里呀？  Fri Oct  2 14:00:50 2020  \n",
       "705           標題: [問卦] 叫外送的年輕人都是什麼人  Fri Oct  2 15:29:44 2020  \n",
       "\n",
       "[702 rows x 6 columns]"
      ]
     },
     "execution_count": 35,
     "metadata": {},
     "output_type": "execute_result"
    }
   ],
   "source": [
    "#回到正課\n",
    "df[\n",
    "    pd.to_datetime(df[\"時間\"]) > datetime(2020, 10, 2) #利用datetime(年, 月, 日)輸入年月日去篩選\n",
    "]"
   ]
  },
  {
   "cell_type": "code",
   "execution_count": null,
   "metadata": {},
   "outputs": [],
   "source": [
    "df[\n",
    "    pd.to_datetime(df[\"時間\"]) > datetime(2020, 10, 2)\n",
    "].sort_values(\"時間\", ascending=False)"
   ]
  },
  {
   "cell_type": "code",
   "execution_count": 37,
   "metadata": {},
   "outputs": [
    {
     "data": {
      "text/html": [
       "<div>\n",
       "<style scoped>\n",
       "    .dataframe tbody tr th:only-of-type {\n",
       "        vertical-align: middle;\n",
       "    }\n",
       "\n",
       "    .dataframe tbody tr th {\n",
       "        vertical-align: top;\n",
       "    }\n",
       "\n",
       "    .dataframe thead th {\n",
       "        text-align: right;\n",
       "    }\n",
       "</style>\n",
       "<table border=\"1\" class=\"dataframe\">\n",
       "  <thead>\n",
       "    <tr style=\"text-align: right;\">\n",
       "      <th></th>\n",
       "      <th>推</th>\n",
       "      <th>噓</th>\n",
       "      <th>分數</th>\n",
       "      <th>作者</th>\n",
       "      <th>標題</th>\n",
       "      <th>時間</th>\n",
       "      <th>dt_parsed</th>\n",
       "    </tr>\n",
       "  </thead>\n",
       "  <tbody>\n",
       "    <tr>\n",
       "      <th>0</th>\n",
       "      <td>25</td>\n",
       "      <td>4</td>\n",
       "      <td>分數: 21</td>\n",
       "      <td>作者: Rusnake5566 (魯蛇+56 PTT最強帳號)</td>\n",
       "      <td>標題: [問卦] 兩個候選人選前一個月同時陣亡的可能性</td>\n",
       "      <td>Fri Oct  2 13:56:39 2020</td>\n",
       "      <td>2020-10-02 13:56:39</td>\n",
       "    </tr>\n",
       "    <tr>\n",
       "      <th>1</th>\n",
       "      <td>11</td>\n",
       "      <td>11</td>\n",
       "      <td>分數: 0</td>\n",
       "      <td>作者: LoveMakeLove (ボケ)</td>\n",
       "      <td>標題: [新聞]江啟臣：兩岸是不對稱的戰爭 從募兵改徵兵</td>\n",
       "      <td>Wed Oct  7 18:53:08 2020</td>\n",
       "      <td>2020-10-07 18:53:08</td>\n",
       "    </tr>\n",
       "    <tr>\n",
       "      <th>2</th>\n",
       "      <td>20</td>\n",
       "      <td>0</td>\n",
       "      <td>分數: 20</td>\n",
       "      <td>作者: MintSu (Simon)</td>\n",
       "      <td>標題: [問卦] 如果川普老婆死於武漢肺炎會怎麼樣？</td>\n",
       "      <td>Fri Oct  2 13:30:55 2020</td>\n",
       "      <td>2020-10-02 13:30:55</td>\n",
       "    </tr>\n",
       "    <tr>\n",
       "      <th>3</th>\n",
       "      <td>31</td>\n",
       "      <td>2</td>\n",
       "      <td>分數: 29</td>\n",
       "      <td>作者: seiya2000 (風見)</td>\n",
       "      <td>標題: [問卦] 為什麼古代生物體型可以長到這麼大？</td>\n",
       "      <td>Fri Oct  2 12:35:18 2020</td>\n",
       "      <td>2020-10-02 12:35:18</td>\n",
       "    </tr>\n",
       "    <tr>\n",
       "      <th>4</th>\n",
       "      <td>106</td>\n",
       "      <td>6</td>\n",
       "      <td>分數: 100</td>\n",
       "      <td>作者: kasumi5566 (霞)</td>\n",
       "      <td>標題: [問卦] 支那女生是不是都沒錢修補衣服</td>\n",
       "      <td>Fri Oct  2 13:43:25 2020</td>\n",
       "      <td>2020-10-02 13:43:25</td>\n",
       "    </tr>\n",
       "    <tr>\n",
       "      <th>...</th>\n",
       "      <td>...</td>\n",
       "      <td>...</td>\n",
       "      <td>...</td>\n",
       "      <td>...</td>\n",
       "      <td>...</td>\n",
       "      <td>...</td>\n",
       "      <td>...</td>\n",
       "    </tr>\n",
       "    <tr>\n",
       "      <th>701</th>\n",
       "      <td>5</td>\n",
       "      <td>0</td>\n",
       "      <td>分數: 5</td>\n",
       "      <td>作者: doraBBO (天才小釣手)</td>\n",
       "      <td>標題: [問卦] 為什麼要相信房子會跌不能買這種話？</td>\n",
       "      <td>Wed Oct  7 19:37:00 2020</td>\n",
       "      <td>2020-10-07 19:37:00</td>\n",
       "    </tr>\n",
       "    <tr>\n",
       "      <th>702</th>\n",
       "      <td>7</td>\n",
       "      <td>0</td>\n",
       "      <td>分數: 7</td>\n",
       "      <td>作者: nothisman (在人海中迷失)</td>\n",
       "      <td>標題: [新聞] 地表「最胖肥熊」出爐！　635kg棕熊挺「</td>\n",
       "      <td>Wed Oct  7 21:00:58 2020</td>\n",
       "      <td>2020-10-07 21:00:58</td>\n",
       "    </tr>\n",
       "    <tr>\n",
       "      <th>703</th>\n",
       "      <td>0</td>\n",
       "      <td>0</td>\n",
       "      <td>分數: 0</td>\n",
       "      <td>作者: wa778895 (oilsunbright)</td>\n",
       "      <td>標題: [問卦] 我是被下套了嗎？</td>\n",
       "      <td>Wed Oct  7 21:27:26 2020</td>\n",
       "      <td>2020-10-07 21:27:26</td>\n",
       "    </tr>\n",
       "    <tr>\n",
       "      <th>704</th>\n",
       "      <td>15</td>\n",
       "      <td>4</td>\n",
       "      <td>分數: 11</td>\n",
       "      <td>作者: stan0720 (Kimo)</td>\n",
       "      <td>標題: [問卦] 認真問 人一天可以走幾公里呀？</td>\n",
       "      <td>Fri Oct  2 14:00:50 2020</td>\n",
       "      <td>2020-10-02 14:00:50</td>\n",
       "    </tr>\n",
       "    <tr>\n",
       "      <th>705</th>\n",
       "      <td>5</td>\n",
       "      <td>0</td>\n",
       "      <td>分數: 5</td>\n",
       "      <td>作者: bigtreelife (Tree)</td>\n",
       "      <td>標題: [問卦] 叫外送的年輕人都是什麼人</td>\n",
       "      <td>Fri Oct  2 15:29:44 2020</td>\n",
       "      <td>2020-10-02 15:29:44</td>\n",
       "    </tr>\n",
       "  </tbody>\n",
       "</table>\n",
       "<p>706 rows × 7 columns</p>\n",
       "</div>"
      ],
      "text/plain": [
       "       推   噓       分數                               作者  \\\n",
       "0     25   4   分數: 21  作者: Rusnake5566 (魯蛇+56 PTT最強帳號)   \n",
       "1     11  11    分數: 0            作者: LoveMakeLove (ボケ)   \n",
       "2     20   0   分數: 20               作者: MintSu (Simon)   \n",
       "3     31   2   分數: 29               作者: seiya2000 (風見)   \n",
       "4    106   6  分數: 100               作者: kasumi5566 (霞)   \n",
       "..   ...  ..      ...                              ...   \n",
       "701    5   0    分數: 5              作者: doraBBO (天才小釣手)   \n",
       "702    7   0    分數: 7           作者: nothisman (在人海中迷失)   \n",
       "703    0   0    分數: 0      作者: wa778895 (oilsunbright)   \n",
       "704   15   4   分數: 11              作者: stan0720 (Kimo)   \n",
       "705    5   0    分數: 5           作者: bigtreelife (Tree)   \n",
       "\n",
       "                                 標題                        時間  \\\n",
       "0       標題: [問卦] 兩個候選人選前一個月同時陣亡的可能性  Fri Oct  2 13:56:39 2020   \n",
       "1      標題: [新聞]江啟臣：兩岸是不對稱的戰爭 從募兵改徵兵  Wed Oct  7 18:53:08 2020   \n",
       "2        標題: [問卦] 如果川普老婆死於武漢肺炎會怎麼樣？  Fri Oct  2 13:30:55 2020   \n",
       "3        標題: [問卦] 為什麼古代生物體型可以長到這麼大？  Fri Oct  2 12:35:18 2020   \n",
       "4           標題: [問卦] 支那女生是不是都沒錢修補衣服  Fri Oct  2 13:43:25 2020   \n",
       "..                              ...                       ...   \n",
       "701      標題: [問卦] 為什麼要相信房子會跌不能買這種話？  Wed Oct  7 19:37:00 2020   \n",
       "702  標題: [新聞] 地表「最胖肥熊」出爐！　635kg棕熊挺「  Wed Oct  7 21:00:58 2020   \n",
       "703               標題: [問卦] 我是被下套了嗎？  Wed Oct  7 21:27:26 2020   \n",
       "704        標題: [問卦] 認真問 人一天可以走幾公里呀？  Fri Oct  2 14:00:50 2020   \n",
       "705           標題: [問卦] 叫外送的年輕人都是什麼人  Fri Oct  2 15:29:44 2020   \n",
       "\n",
       "              dt_parsed  \n",
       "0   2020-10-02 13:56:39  \n",
       "1   2020-10-07 18:53:08  \n",
       "2   2020-10-02 13:30:55  \n",
       "3   2020-10-02 12:35:18  \n",
       "4   2020-10-02 13:43:25  \n",
       "..                  ...  \n",
       "701 2020-10-07 19:37:00  \n",
       "702 2020-10-07 21:00:58  \n",
       "703 2020-10-07 21:27:26  \n",
       "704 2020-10-02 14:00:50  \n",
       "705 2020-10-02 15:29:44  \n",
       "\n",
       "[706 rows x 7 columns]"
      ]
     },
     "execution_count": 37,
     "metadata": {},
     "output_type": "execute_result"
    }
   ],
   "source": [
    "df[\"dt_parsed\"] = pd.to_datetime(df[\"時間\"]) #在把時間轉乘timestamp格式\n",
    "df"
   ]
  },
  {
   "cell_type": "code",
   "execution_count": 39,
   "metadata": {},
   "outputs": [
    {
     "data": {
      "text/plain": [
       "0       25\n",
       "1       11\n",
       "2       20\n",
       "3       31\n",
       "4      106\n",
       "      ... \n",
       "701      5\n",
       "702      7\n",
       "703      0\n",
       "704     15\n",
       "705      5\n",
       "Name: 推, Length: 706, dtype: object"
      ]
     },
     "execution_count": 39,
     "metadata": {},
     "output_type": "execute_result"
    }
   ],
   "source": [
    "#轉換data type\n",
    "df[\"推\"].astype(str)"
   ]
  },
  {
   "cell_type": "code",
   "execution_count": null,
   "metadata": {},
   "outputs": [],
   "source": []
  }
 ],
 "metadata": {
  "kernelspec": {
   "display_name": "Python 3",
   "language": "python",
   "name": "python3"
  },
  "language_info": {
   "codemirror_mode": {
    "name": "ipython",
    "version": 3
   },
   "file_extension": ".py",
   "mimetype": "text/x-python",
   "name": "python",
   "nbconvert_exporter": "python",
   "pygments_lexer": "ipython3",
   "version": "3.12.4"
  }
 },
 "nbformat": 4,
 "nbformat_minor": 2
}
